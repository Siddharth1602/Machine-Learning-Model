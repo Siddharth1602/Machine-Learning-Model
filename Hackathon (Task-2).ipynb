{
 "cells": [
  {
   "cell_type": "code",
   "execution_count": 1,
   "id": "d1158b3d",
   "metadata": {},
   "outputs": [],
   "source": [
    "## importing necessary files.\n",
    "\n",
    "import pandas as pd\n",
    "import numpy as np\n",
    "import matplotlib.pyplot as plt\n",
    "import seaborn as sns"
   ]
  },
  {
   "cell_type": "code",
   "execution_count": 2,
   "id": "5c0cca3d",
   "metadata": {},
   "outputs": [
    {
     "data": {
      "text/html": [
       "<div>\n",
       "<style scoped>\n",
       "    .dataframe tbody tr th:only-of-type {\n",
       "        vertical-align: middle;\n",
       "    }\n",
       "\n",
       "    .dataframe tbody tr th {\n",
       "        vertical-align: top;\n",
       "    }\n",
       "\n",
       "    .dataframe thead th {\n",
       "        text-align: right;\n",
       "    }\n",
       "</style>\n",
       "<table border=\"1\" class=\"dataframe\">\n",
       "  <thead>\n",
       "    <tr style=\"text-align: right;\">\n",
       "      <th></th>\n",
       "      <th>input</th>\n",
       "      <th>output</th>\n",
       "    </tr>\n",
       "  </thead>\n",
       "  <tbody>\n",
       "    <tr>\n",
       "      <th>0</th>\n",
       "      <td>-122.740667</td>\n",
       "      <td>-130.572085</td>\n",
       "    </tr>\n",
       "    <tr>\n",
       "      <th>1</th>\n",
       "      <td>-121.531419</td>\n",
       "      <td>-129.938929</td>\n",
       "    </tr>\n",
       "    <tr>\n",
       "      <th>2</th>\n",
       "      <td>-134.917019</td>\n",
       "      <td>-130.141832</td>\n",
       "    </tr>\n",
       "    <tr>\n",
       "      <th>3</th>\n",
       "      <td>-120.605951</td>\n",
       "      <td>-125.760932</td>\n",
       "    </tr>\n",
       "    <tr>\n",
       "      <th>4</th>\n",
       "      <td>-129.894781</td>\n",
       "      <td>-112.785214</td>\n",
       "    </tr>\n",
       "  </tbody>\n",
       "</table>\n",
       "</div>"
      ],
      "text/plain": [
       "        input      output\n",
       "0 -122.740667 -130.572085\n",
       "1 -121.531419 -129.938929\n",
       "2 -134.917019 -130.141832\n",
       "3 -120.605951 -125.760932\n",
       "4 -129.894781 -112.785214"
      ]
     },
     "execution_count": 2,
     "metadata": {},
     "output_type": "execute_result"
    }
   ],
   "source": [
    "## Reading the dataset.\n",
    "df = pd.read_csv(\"dataframe_.csv\")\n",
    "\n",
    "df.head(5)"
   ]
  },
  {
   "cell_type": "code",
   "execution_count": 3,
   "id": "0d16b80b",
   "metadata": {},
   "outputs": [
    {
     "data": {
      "text/plain": [
       "input     1\n",
       "output    1\n",
       "dtype: int64"
      ]
     },
     "execution_count": 3,
     "metadata": {},
     "output_type": "execute_result"
    }
   ],
   "source": [
    "## Checking for any null values:\n",
    "\n",
    "df.isnull().sum()"
   ]
  },
  {
   "cell_type": "code",
   "execution_count": 4,
   "id": "525fe08b",
   "metadata": {},
   "outputs": [
    {
     "data": {
      "text/plain": [
       "(1697, 2)"
      ]
     },
     "execution_count": 4,
     "metadata": {},
     "output_type": "execute_result"
    }
   ],
   "source": [
    "## Checking the shape of the dataset.\n",
    "\n",
    "df.shape"
   ]
  },
  {
   "cell_type": "code",
   "execution_count": 5,
   "id": "59fc7f3b",
   "metadata": {},
   "outputs": [
    {
     "name": "stdout",
     "output_type": "stream",
     "text": [
      "           input      output\n",
      "0    -122.740667 -130.572085\n",
      "1    -121.531419 -129.938929\n",
      "2    -134.917019 -130.141832\n",
      "3    -120.605951 -125.760932\n",
      "4    -129.894781 -112.785214\n",
      "...          ...         ...\n",
      "1692   25.410184  -76.380902\n",
      "1693   29.537304  -82.796934\n",
      "1694   31.633331  -87.000000\n",
      "1695   29.091458 -104.943052\n",
      "1696   17.145296 -101.726894\n",
      "\n",
      "[1696 rows x 2 columns]\n"
     ]
    }
   ],
   "source": [
    "## Dropping the null values since there is only one value which is null.\n",
    "\n",
    "df.dropna(inplace=True)\n",
    "\n",
    "print(df)"
   ]
  },
  {
   "cell_type": "code",
   "execution_count": 6,
   "id": "ed107624",
   "metadata": {},
   "outputs": [
    {
     "data": {
      "text/plain": [
       "(1696, 2)"
      ]
     },
     "execution_count": 6,
     "metadata": {},
     "output_type": "execute_result"
    }
   ],
   "source": [
    "df.shape"
   ]
  },
  {
   "cell_type": "markdown",
   "id": "86a58477",
   "metadata": {},
   "source": [
    "## Exploratory Data Analysis."
   ]
  },
  {
   "cell_type": "markdown",
   "id": "a62f41a8",
   "metadata": {},
   "source": [
    "Going to work on the descriptive analysis i.e. mean, median, mode, Standard deviation. This can help  to identify the central tendency and dispersion of the data, as well as to detect any skewness or outliers."
   ]
  },
  {
   "cell_type": "code",
   "execution_count": 7,
   "id": "0a7e5ca4",
   "metadata": {},
   "outputs": [
    {
     "name": "stderr",
     "output_type": "stream",
     "text": [
      "D:\\Anaconda\\lib\\site-packages\\seaborn\\distributions.py:2619: FutureWarning: `distplot` is a deprecated function and will be removed in a future version. Please adapt your code to use either `displot` (a figure-level function with similar flexibility) or `histplot` (an axes-level function for histograms).\n",
      "  warnings.warn(msg, FutureWarning)\n"
     ]
    },
    {
     "data": {
      "image/png": "[encoded data removed]",
      "text/plain": [
       "<Figure size 432x288 with 1 Axes>"
      ]
     },
     "metadata": {
      "needs_background": "light"
     },
     "output_type": "display_data"
    }
   ],
   "source": [
    "sns.distplot(df['input'])\n",
    "plt.show()"
   ]
  },
  {
   "cell_type": "code",
   "execution_count": 8,
   "id": "365b5d9c",
   "metadata": {},
   "outputs": [
    {
     "name": "stderr",
     "output_type": "stream",
     "text": [
      "D:\\Anaconda\\lib\\site-packages\\seaborn\\distributions.py:2619: FutureWarning: `distplot` is a deprecated function and will be removed in a future version. Please adapt your code to use either `displot` (a figure-level function with similar flexibility) or `histplot` (an axes-level function for histograms).\n",
      "  warnings.warn(msg, FutureWarning)\n"
     ]
    },
    {
     "data": {
      "image/png": "[encoded data removed]",
      "text/plain": [
       "<Figure size 432x288 with 1 Axes>"
      ]
     },
     "metadata": {
      "needs_background": "light"
     },
     "output_type": "display_data"
    }
   ],
   "source": [
    "sns.distplot(df['output'])\n",
    "plt.show()"
   ]
  },
  {
   "cell_type": "code",
   "execution_count": 9,
   "id": "fc690289",
   "metadata": {},
   "outputs": [
    {
     "name": "stdout",
     "output_type": "stream",
     "text": [
      "Mean:\n",
      " input      1.159933\n",
      "output   -34.088017\n",
      "dtype: float64\n",
      "-------------------\n",
      "\n",
      "Median:\n",
      " input     10.195194\n",
      "output   -50.470981\n",
      "dtype: float64\n",
      "-------------------\n",
      "\n",
      "Mode:\n",
      " input    -125.366669\n",
      "output    -95.000000\n",
      "Name: 0, dtype: float64\n",
      "-------------------\n",
      "\n",
      "Standard Deviation:\n",
      " input     79.005970\n",
      "output    65.771112\n",
      "dtype: float64\n"
     ]
    }
   ],
   "source": [
    "## Calculating the mean, median and mode:\n",
    "mean = df.mean()\n",
    "\n",
    "median = df.median()\n",
    "\n",
    "mode = df.mode().iloc[0]\n",
    "\n",
    "std = df.std()\n",
    "\n",
    "print(\"Mean:\\n\", mean)\n",
    "print(\"-------------------\")\n",
    "print(\"\\nMedian:\\n\", median)\n",
    "print(\"-------------------\")\n",
    "print(\"\\nMode:\\n\", mode)\n",
    "print(\"-------------------\")\n",
    "print(\"\\nStandard Deviation:\\n\", std)"
   ]
  },
  {
   "cell_type": "code",
   "execution_count": 10,
   "id": "6686c390",
   "metadata": {},
   "outputs": [
    {
     "data": {
      "image/png": "[encoded data removed]",
      "text/plain": [
       "<Figure size 1080x432 with 1 Axes>"
      ]
     },
     "metadata": {
      "needs_background": "light"
     },
     "output_type": "display_data"
    }
   ],
   "source": [
    "# Plotting the data using a histogram\n",
    "plt.figure(figsize=(15, 6))\n",
    "plt.hist(df['input'], bins=20, color='gray')\n",
    "plt.axvline(df['input'].mean(), color='red', label='Mean')\n",
    "plt.axvline(df['input'].median(), color='green', label='Median')\n",
    "plt.axvline(df['input'].mode().iloc[0], color='blue', label='Mode')\n",
    "plt.legend()\n",
    "plt.show()"
   ]
  },
  {
   "cell_type": "markdown",
   "id": "f6ec6692",
   "metadata": {},
   "source": [
    "From the above histogram we can see that the values of mean and median are closer to each other than we can say that the data is symmetrical not that much skewed. This tells us that the accuracy level will be good."
   ]
  },
  {
   "cell_type": "code",
   "execution_count": 11,
   "id": "f30e58d2",
   "metadata": {},
   "outputs": [
    {
     "data": {
      "image/png": "[encoded data removed]",
      "text/plain": [
       "<Figure size 1080x432 with 1 Axes>"
      ]
     },
     "metadata": {
      "needs_background": "light"
     },
     "output_type": "display_data"
    }
   ],
   "source": [
    "plt.figure(figsize=(15, 6))\n",
    "plt.hist(df['output'], bins=20, color='gray')\n",
    "plt.axvline(df['output'].mean(), color='red', label='Mean')\n",
    "plt.axvline(df['output'].median(), color='green', label='Median')\n",
    "plt.axvline(df['output'].mode().iloc[0], color='blue', label='Mode')\n",
    "plt.legend()\n",
    "plt.show()"
   ]
  },
  {
   "cell_type": "code",
   "execution_count": 12,
   "id": "bb9a550b",
   "metadata": {},
   "outputs": [
    {
     "data": {
      "image/png": "[encoded data removed]",
      "text/plain": [
       "<Figure size 1080x432 with 1 Axes>"
      ]
     },
     "metadata": {
      "needs_background": "light"
     },
     "output_type": "display_data"
    }
   ],
   "source": [
    "## Determing the variability in the dataset to check the dataset.\n",
    "\n",
    "plt.figure(figsize=(15, 6))\n",
    "plt.hist(df['input'], bins=20, color='gray')\n",
    "plt.axvline(df['input'].mean(), color='red', label='Mean')\n",
    "plt.axvline(df['input'].mean() + df['input'].std(), color='blue', linestyle='dashed', label='+1 Standard Deviation')\n",
    "plt.axvline(df['input'].mean() - df['input'].std(), color='blue', linestyle='dashed', label='-1 Standard Deviation')\n",
    "plt.legend()\n",
    "plt.show()"
   ]
  },
  {
   "cell_type": "code",
   "execution_count": 13,
   "id": "dd5564d9",
   "metadata": {},
   "outputs": [
    {
     "data": {
      "image/png": "[encoded data removed]",
      "text/plain": [
       "<Figure size 1080x432 with 1 Axes>"
      ]
     },
     "metadata": {
      "needs_background": "light"
     },
     "output_type": "display_data"
    }
   ],
   "source": [
    "plt.figure(figsize=(15, 6))\n",
    "plt.hist(df['output'], bins=20, color='gray')\n",
    "plt.axvline(df['output'].mean(), color='red', label='Mean')\n",
    "plt.axvline(df['output'].mean() + df['output'].std(), color='blue', linestyle='dashed', label='+1 Standard Deviation')\n",
    "plt.axvline(df['output'].mean() - df['output'].std(), color='blue', linestyle='dashed', label='-1 Standard Deviation')\n",
    "plt.legend()\n",
    "plt.show()"
   ]
  },
  {
   "cell_type": "markdown",
   "id": "0cd2258b",
   "metadata": {},
   "source": [
    "So from the above the graphs of Standard Deviation we can conclude that the data is somewhat not clustered and they are desirable to make the predictions."
   ]
  },
  {
   "cell_type": "code",
   "execution_count": 14,
   "id": "e83313f1",
   "metadata": {},
   "outputs": [
    {
     "data": {
      "image/png": "[encoded data removed]",
      "text/plain": [
       "<Figure size 432x288 with 2 Axes>"
      ]
     },
     "metadata": {
      "needs_background": "light"
     },
     "output_type": "display_data"
    }
   ],
   "source": [
    "## Calculating the Correlation between the input and output values.\n",
    "\n",
    "correlation_matrix = df.corr()\n",
    "\n",
    "sns.heatmap(correlation_matrix, annot=True)\n",
    "plt.show()"
   ]
  },
  {
   "cell_type": "markdown",
   "id": "84b6a562",
   "metadata": {},
   "source": [
    "## Build a Machine Learning Model to predict output based on the input column."
   ]
  },
  {
   "cell_type": "code",
   "execution_count": 15,
   "id": "b49527ec",
   "metadata": {},
   "outputs": [
    {
     "data": {
      "image/png": "[encoded data removed]",
      "text/plain": [
       "<Figure size 720x432 with 1 Axes>"
      ]
     },
     "metadata": {
      "needs_background": "light"
     },
     "output_type": "display_data"
    }
   ],
   "source": [
    "fig, ax = plt.subplots(figsize=(10, 6))\n",
    "ax.boxplot(df, showfliers=True)\n",
    "ax.set_xticklabels(df.columns)\n",
    "plt.title(\"Visualizing the outliers\")\n",
    "plt.xlabel(\"Columns\")\n",
    "plt.ylabel(\"Values\")\n",
    "plt.show()"
   ]
  },
  {
   "cell_type": "code",
   "execution_count": 69,
   "id": "8654eeb6",
   "metadata": {},
   "outputs": [
    {
     "name": "stdout",
     "output_type": "stream",
     "text": [
      "The z-score is:\n",
      " 0       1.568706\n",
      "1       1.553396\n",
      "2       1.722871\n",
      "3       1.541678\n",
      "4       1.659284\n",
      "          ...   \n",
      "1692    0.307033\n",
      "1693    0.359286\n",
      "1694    0.385824\n",
      "1695    0.353641\n",
      "1696    0.202391\n",
      "Name: input, Length: 1696, dtype: float64\n",
      "-------------------------------------------------------\n",
      "The z-score is:\n",
      " 0       1.467400\n",
      "1       1.457770\n",
      "2       1.460856\n",
      "3       1.394228\n",
      "4       1.196884\n",
      "          ...   \n",
      "1692    0.643221\n",
      "1693    0.740801\n",
      "1694    0.804724\n",
      "1695    1.077615\n",
      "1696    1.028701\n",
      "Name: output, Length: 1696, dtype: float64\n"
     ]
    }
   ],
   "source": [
    "## Treatment of the outliers with the z-score.\n",
    "from scipy import stats\n",
    "# Calculating the z-score of each data point\n",
    "z_input = np.abs(stats.zscore(df['input']))\n",
    "z_output = np.abs(stats.zscore(df['output']))\n",
    "\n",
    "print(\"The z-score is:\\n\",z_input)\n",
    "print(\"-------------------------------------------------------\")\n",
    "print(\"The z-score is:\\n\",z_output)"
   ]
  },
  {
   "cell_type": "code",
   "execution_count": 23,
   "id": "78c1ae2e",
   "metadata": {},
   "outputs": [
    {
     "data": {
      "image/png": "[encoded data removed]",
      "text/plain": [
       "<Figure size 432x288 with 1 Axes>"
      ]
     },
     "metadata": {
      "needs_background": "light"
     },
     "output_type": "display_data"
    }
   ],
   "source": [
    "# Create a scatterplot with the z-score on the y-axis and the input value on the x-axis\n",
    "sns.scatterplot(x=df['input'], y=z_input)\n",
    "plt.xlabel(\"Input values\")\n",
    "plt.ylabel(\"Z-Score\")\n",
    "plt.title(\"Z-Score and Input values\")\n",
    "# Draw a horizontal line at the threshold\n",
    "threshold = 3\n",
    "plt.axhline(y=threshold, color='red', label='Threshold')\n",
    "plt.axhline(y=-threshold, color='red')\n",
    "plt.show()"
   ]
  },
  {
   "cell_type": "code",
   "execution_count": 68,
   "id": "1bb1313f",
   "metadata": {},
   "outputs": [
    {
     "data": {
      "image/png": "[encoded data removed]",
      "text/plain": [
       "<Figure size 432x288 with 1 Axes>"
      ]
     },
     "metadata": {
      "needs_background": "light"
     },
     "output_type": "display_data"
    }
   ],
   "source": [
    "# Create a scatterplot with the z-score on the y-axis and the output value on the x-axis\n",
    "sns.scatterplot(x=df['output'], y=z_output)\n",
    "plt.xlabel(\"output values\")\n",
    "plt.ylabel(\"Z-Score\")\n",
    "plt.title(\"Z-Score and output values\")\n",
    "# Draw a horizontal line at the threshold\n",
    "threshold = 3\n",
    "plt.axhline(y=threshold, color='red', label='Threshold')\n",
    "plt.axhline(y=-threshold, color='red')\n",
    "plt.show()"
   ]
  },
  {
   "cell_type": "markdown",
   "id": "ab038488",
   "metadata": {},
   "source": [
    "A threshold of 3 will be used as a cutoff point for identifying outliers in a dataset using the Z-score method. If the Z-score of a data point is greater than 3, it means that the data point is more than 3 standard deviations away from the mean and is therefore considered an outlier. When a horizontal line is drawn at the threshold of 3 and the Z-scores are plotted against the original data, any data points that fall above the line are considered outliers. So, if the line is coming under 3, it means that there are no outliers in the data as all the Z-scores are within 3 standard deviations from the mean."
   ]
  },
  {
   "cell_type": "code",
   "execution_count": 31,
   "id": "406a3bef",
   "metadata": {},
   "outputs": [],
   "source": [
    "## Hyperparameter Tuning by Random Forest\n",
    "\n",
    "from sklearn.ensemble import RandomForestRegressor\n",
    "from sklearn.model_selection import GridSearchCV\n",
    "from sklearn.model_selection import train_test_split \n",
    "\n",
    "X = df.iloc[:, :-1].values\n",
    "y = df.iloc[:, -1].values \n",
    "\n",
    "# Splitting the model\n",
    "X_train, X_test, y_train, y_test = train_test_split(X, y, \n",
    "                                                    test_size=0.2, \n",
    "                                                    random_state=0)"
   ]
  },
  {
   "cell_type": "code",
   "execution_count": 32,
   "id": "473c600d",
   "metadata": {},
   "outputs": [],
   "source": [
    "regressor = RandomForestRegressor(n_estimators=20, random_state=0)  \n",
    "regressor.fit(X_train, y_train)  \n",
    "y_pred = regressor.predict(X_test)  "
   ]
  },
  {
   "cell_type": "code",
   "execution_count": 34,
   "id": "f4f4d4ca",
   "metadata": {},
   "outputs": [
    {
     "name": "stdout",
     "output_type": "stream",
     "text": [
      "Mean Absolute Error: 19.38530477769993\n",
      "------------------------------------------------------------------\n",
      "Mean Squared Error: 1539.3137140074323\n",
      "------------------------------------------------------------------\n",
      "Root Mean Squared Error: 39.23408867308418\n"
     ]
    }
   ],
   "source": [
    "# Evaluating the Algorithm\n",
    "from sklearn import metrics\n",
    "print('Mean Absolute Error:', metrics.mean_absolute_error(y_test, y_pred)) \n",
    "print(\"------------------------------------------------------------------\")\n",
    "print('Mean Squared Error:', metrics.mean_squared_error(y_test, y_pred))\n",
    "print(\"------------------------------------------------------------------\")\n",
    "print('Root Mean Squared Error:', np.sqrt(metrics.mean_squared_error(y_test, y_pred)))"
   ]
  },
  {
   "cell_type": "code",
   "execution_count": 44,
   "id": "afecbb4b",
   "metadata": {},
   "outputs": [],
   "source": [
    "## Hyperparameter Tuning Using Decision Tree Method:\n",
    "\n",
    "from sklearn.tree import DecisionTreeRegressor\n",
    "from sklearn.model_selection import train_test_split \n",
    "\n",
    "X = df.iloc[:, :-1].values\n",
    "y = df.iloc[:, -1].values \n",
    "X_train, X_test, y_train, y_test = train_test_split(X,y,random_state=100)"
   ]
  },
  {
   "cell_type": "code",
   "execution_count": 45,
   "id": "8eb5359b",
   "metadata": {},
   "outputs": [
    {
     "data": {
      "text/plain": [
       "DecisionTreeRegressor()"
      ]
     },
     "execution_count": 45,
     "metadata": {},
     "output_type": "execute_result"
    }
   ],
   "source": [
    "regression = DecisionTreeRegressor()  \n",
    "regression.fit(X_train, y_train)"
   ]
  },
  {
   "cell_type": "code",
   "execution_count": 46,
   "id": "0b3bcdc4",
   "metadata": {},
   "outputs": [],
   "source": [
    "y_pred = regression.predict(X_test)"
   ]
  },
  {
   "cell_type": "code",
   "execution_count": 49,
   "id": "1818ba20",
   "metadata": {},
   "outputs": [
    {
     "name": "stdout",
     "output_type": "stream",
     "text": [
      "Mean Absolute Error: 14.259858271205264\n",
      "-------------------------------------------------------------------\n",
      "Mean Squared Error: 1200.9375036049762\n",
      "-------------------------------------------------------------------\n",
      "Root Mean Squared Error: 34.6545452084568\n"
     ]
    }
   ],
   "source": [
    "from sklearn import metrics  \n",
    "print('Mean Absolute Error:', metrics.mean_absolute_error(y_test, y_pred))\n",
    "print(\"-------------------------------------------------------------------\")\n",
    "print('Mean Squared Error:', metrics.mean_squared_error(y_test, y_pred)) \n",
    "print(\"-------------------------------------------------------------------\")\n",
    "print('Root Mean Squared Error:', np.sqrt(metrics.mean_squared_error(y_test, y_pred)))"
   ]
  },
  {
   "cell_type": "markdown",
   "id": "29ff96dc",
   "metadata": {},
   "source": [
    "Comparing the results of the two models, it looks like the Decision Tree model has a lower mean absolute error and a lower mean squared error compared to the Random Forest model. The root mean squared error is also lower for the Decision Tree model, which indicates that its predictions are closer to the actual values"
   ]
  },
  {
   "cell_type": "code",
   "execution_count": 51,
   "id": "5056c2f4",
   "metadata": {},
   "outputs": [],
   "source": [
    "## Building a linear Regression Model.\n",
    "\n",
    "from sklearn.model_selection import train_test_split\n",
    "X = df.drop('output', axis=1)\n",
    "y = df['output']\n",
    "\n",
    "X_train, X_test, y_train, y_test = train_test_split(X, y, test_size=0.2, random_state=0)\n",
    "\n",
    "from sklearn.linear_model import LinearRegression\n",
    "\n",
    "model = LinearRegression()"
   ]
  },
  {
   "cell_type": "code",
   "execution_count": 52,
   "id": "9bc66ae4",
   "metadata": {},
   "outputs": [
    {
     "data": {
      "text/plain": [
       "LinearRegression()"
      ]
     },
     "execution_count": 52,
     "metadata": {},
     "output_type": "execute_result"
    }
   ],
   "source": [
    "model.fit(X_train, y_train)"
   ]
  },
  {
   "cell_type": "code",
   "execution_count": 53,
   "id": "f74cbc59",
   "metadata": {},
   "outputs": [],
   "source": [
    "# Making predictions on the testing data\n",
    "y_pred = model.predict(X_test)"
   ]
  },
  {
   "cell_type": "code",
   "execution_count": 54,
   "id": "045f28ed",
   "metadata": {},
   "outputs": [
    {
     "name": "stdout",
     "output_type": "stream",
     "text": [
      "Mean Absolute Error: 43.89558011440079\n",
      "--------------------------------------------------------------------\n",
      "Mean Squared Error: 3291.4050360956\n",
      "--------------------------------------------------------------------\n",
      "Root Mean Squared Error: 57.37076813234768\n"
     ]
    }
   ],
   "source": [
    "# Evaluate the model using metrics such as Mean Absolute Error, Mean Squared Error, and Root Mean Squared Error\n",
    "print(\"Mean Absolute Error:\", metrics.mean_absolute_error(y_test, y_pred))\n",
    "print(\"--------------------------------------------------------------------\")\n",
    "print(\"Mean Squared Error:\", metrics.mean_squared_error(y_test, y_pred))\n",
    "print(\"--------------------------------------------------------------------\")\n",
    "print(\"Root Mean Squared Error:\", np.sqrt(metrics.mean_squared_error(y_test, y_pred)))"
   ]
  },
  {
   "cell_type": "markdown",
   "id": "97bca241",
   "metadata": {},
   "source": [
    "## Model to predict output based on the input column. On the basis of Linear Regression Model"
   ]
  },
  {
   "cell_type": "code",
   "execution_count": 67,
   "id": "dbb0ebbe",
   "metadata": {},
   "outputs": [
    {
     "name": "stdout",
     "output_type": "stream",
     "text": [
      "         output       input\n",
      "0    -85.329719 -122.740667\n",
      "1    -84.831763 -121.531419\n",
      "2    -90.343814 -134.917019\n",
      "3    -84.450665 -120.605951\n",
      "4    -88.275708 -129.894781\n",
      "...         ...         ...\n",
      "1691 -24.322740   25.410184\n",
      "1692 -22.623235   29.537304\n",
      "1693 -21.760113   31.633331\n",
      "1694 -22.806830   29.091458\n",
      "1695 -27.726135   17.145296\n",
      "\n",
      "[1696 rows x 2 columns]\n"
     ]
    }
   ],
   "source": [
    "# Combine the y_pred and X arrays into a single array\n",
    "prediction_data = np.column_stack((y_pred, X)) \n",
    "#  y_pred is the predicted values of the output based on the input, and X is the input values.\n",
    "# Create a dataframe from the prediction_data array\n",
    "df_prediction = pd.DataFrame(prediction_data, columns=['output', 'input'])\n",
    "\n",
    "# Show the dataframe\n",
    "print(df_prediction)"
   ]
  }
 ],
 "metadata": {
  "kernelspec": {
   "display_name": "Python 3 (ipykernel)",
   "language": "python",
   "name": "python3"
  },
  "language_info": {
   "codemirror_mode": {
    "name": "ipython",
    "version": 3
   },
   "file_extension": ".py",
   "mimetype": "text/x-python",
   "name": "python",
   "nbconvert_exporter": "python",
   "pygments_lexer": "ipython3",
   "version": "3.9.12"
  }
 },
 "nbformat": 4,
 "nbformat_minor": 5
}
